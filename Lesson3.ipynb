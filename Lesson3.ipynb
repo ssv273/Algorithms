{
 "cells": [
  {
   "cell_type": "code",
   "execution_count": 1,
   "metadata": {
    "colab": {},
    "colab_type": "code",
    "id": "zhwkeWtb1O0w"
   },
   "outputs": [],
   "source": [
    "import numpy as np\n",
    "import matplotlib.pyplot as plt\n",
    "import itertools"
   ]
  },
  {
   "cell_type": "code",
   "execution_count": 2,
   "metadata": {
    "colab": {},
    "colab_type": "code",
    "id": "FeKFn2yb1To4"
   },
   "outputs": [],
   "source": [
    "X = np.array([[1, 1, 1, 1, 1, 1, 1, 1, 1, 1],\n",
    "              [1, 1, 2, 1, 3, 0, 5, 10, 1, 2],\n",
    "              [500, 700, 750, 600, 1450,\n",
    "               800, 1500, 2000, 450, 1000],\n",
    "              [1, 1, 2, 1, 2, \n",
    "               1, 3, 3, 1, 2]], dtype = np.float64)\n",
    "y = np.array([0, 0, 1, 0, 1,\n",
    "              0, 1, 0, 1, 1], dtype = np.float64)"
   ]
  },
  {
   "cell_type": "code",
   "execution_count": 3,
   "metadata": {
    "colab": {},
    "colab_type": "code",
    "id": "qMR5pOA38dDw"
   },
   "outputs": [],
   "source": [
    "def calc_logloss(y, y_pred):\n",
    "    err = - np.mean(y * np.log(y_pred) + (1.0 - y) * np.log(1.0 - y_pred))\n",
    "    err = np.sum(err)\n",
    "    return err"
   ]
  },
  {
   "cell_type": "code",
   "execution_count": 4,
   "metadata": {
    "colab": {},
    "colab_type": "code",
    "id": "EEF9rWPNDnss"
   },
   "outputs": [],
   "source": [
    "def sigmoid(z):\n",
    "    res = 1 / (1 + np.exp(-z))\n",
    "    return res"
   ]
  },
  {
   "cell_type": "code",
   "execution_count": 5,
   "metadata": {
    "colab": {},
    "colab_type": "code",
    "id": "e6TH-mkPItb6"
   },
   "outputs": [],
   "source": [
    "### Logistic Regression"
   ]
  },
  {
   "cell_type": "code",
   "execution_count": 6,
   "metadata": {
    "colab": {},
    "colab_type": "code",
    "id": "qtgUN3LW-UIq"
   },
   "outputs": [],
   "source": [
    "def eval_model(X, y, iterations, alpha=1e-4):\n",
    "    np.random.seed(42)\n",
    "    W = np.random.randn(X.shape[0])\n",
    "    n = X.shape[1]\n",
    "    for i in range(1, iterations+1):\n",
    "        z = np.dot(W, X_norm)\n",
    "        y_pred = sigmoid(z)\n",
    "        err = calc_logloss(y, y_pred)\n",
    "        W -= alpha * (1/n * np.dot((y_pred - y), X_norm.T))\n",
    "        if i % (iterations / 10) == 0:\n",
    "            print(i, W, err)\n",
    "    return W"
   ]
  },
  {
   "cell_type": "markdown",
   "metadata": {
    "colab": {},
    "colab_type": "code",
    "id": "jp0AQlnkRBWC"
   },
   "source": [
    "## 1*. Измените функцию calc_logloss так, чтобы нули по возможности не попадали в np.log.  "
   ]
  },
  {
   "cell_type": "markdown",
   "metadata": {},
   "source": [
    "Для этого отнормируем X"
   ]
  },
  {
   "cell_type": "code",
   "execution_count": 7,
   "metadata": {},
   "outputs": [],
   "source": [
    "X_norm = X.copy()"
   ]
  },
  {
   "cell_type": "code",
   "execution_count": 8,
   "metadata": {},
   "outputs": [],
   "source": [
    "X_norm[2] = (X[2] - X[2].min()) / (X[2].max() - X[2].min())"
   ]
  },
  {
   "cell_type": "code",
   "execution_count": 9,
   "metadata": {},
   "outputs": [],
   "source": [
    "X_norm[3] = (X[3] - X[3].min()) / (X[3].max() - X[3].min())"
   ]
  },
  {
   "cell_type": "code",
   "execution_count": 10,
   "metadata": {
    "colab": {
     "base_uri": "https://localhost:8080/",
     "height": 190
    },
    "colab_type": "code",
    "id": "oqX7loklBmYZ",
    "outputId": "f4849295-1f14-40d8-c8f2-d1b002e130c5"
   },
   "outputs": [
    {
     "name": "stdout",
     "output_type": "stream",
     "text": [
      "10000 [-0.23205161 -0.71456724  0.77641367  5.36267191] 0.4241755964843293\n",
      "20000 [-0.22946089 -0.91518402  0.34756954  7.45070888] 0.37743021621915485\n",
      "30000 [-0.18217238 -1.02007811 -0.24710146  8.86652442] 0.35354291264498305\n",
      "40000 [-0.11965637 -1.08311395 -0.87692346  9.9545919 ] 0.3376104782523013\n",
      "50000 [-0.05286877 -1.12583401 -1.49386293 10.85849284] 0.3255536381107503\n",
      "60000 [ 0.01372194 -1.15826714 -2.07966166 11.64883512] 0.3158127008053517\n",
      "70000 [ 0.07831958 -1.1854475  -2.62874147 12.36398642] 0.307629803989056\n",
      "80000 [ 0.14030871 -1.20998631 -3.14124745 13.02626961] 0.30056972874088567\n",
      "90000 [ 0.19960166 -1.23324532 -3.61982332 13.64938085] 0.29435423994199905\n",
      "100000 [ 0.25633606 -1.25592247 -4.06802733 14.2421182 ] 0.28879333067358476\n"
     ]
    },
    {
     "data": {
      "text/plain": [
       "array([ 0.25633606, -1.25592247, -4.06802733, 14.2421182 ])"
      ]
     },
     "execution_count": 10,
     "metadata": {},
     "output_type": "execute_result"
    }
   ],
   "source": [
    "eval_model(X_norm, y, iterations=100000, alpha=1e-2)"
   ]
  },
  {
   "cell_type": "markdown",
   "metadata": {},
   "source": [
    "## 2. Подберите аргументы функции eval_model для логистической регрессии таким образом, чтобы log loss был минимальным."
   ]
  },
  {
   "cell_type": "code",
   "execution_count": 11,
   "metadata": {},
   "outputs": [
    {
     "name": "stdout",
     "output_type": "stream",
     "text": [
      "10000 [  1.69713397  -2.04128541 -14.2690534   30.25308036] 0.19452850994371207\n",
      "20000 [  2.71573413  -2.71223237 -21.60868345  42.77458174] 0.15150484566937017\n",
      "30000 [  3.39612617  -3.1961868  -26.75695712  51.70400676] 0.12997328133818667\n",
      "40000 [  3.90616828  -3.57480235 -30.77398733  58.69967043] 0.11682861037519628\n",
      "50000 [  4.31536593  -3.88673645 -34.11343692  64.50584624] 0.10778255432082892\n",
      "60000 [  4.65836676  -4.15282304 -37.00693093  69.51282143] 0.1010465956786201\n",
      "70000 [  4.95471255  -4.38545658 -39.58713865  73.94843208] 0.09574650154171507\n",
      "80000 [  5.21644247  -4.59258445 -41.93646941  77.95644146] 0.09140445178260803\n",
      "90000 [  5.45148308  -4.77960965 -44.10925086  81.63302735] 0.08773685588083599\n",
      "100000 [  5.66533181  -4.95038239 -46.14294311  85.04551428] 0.0845644474316965\n"
     ]
    }
   ],
   "source": [
    "W = eval_model(X_norm, y, iterations=100000, alpha=5*1e-1)"
   ]
  },
  {
   "cell_type": "markdown",
   "metadata": {},
   "source": [
    "## 3. Создайте функцию calc_pred_proba, возвращающую предсказанную вероятность класса 1 (на вход подаются W, который уже посчитан функцией eval_model и X, на выходе - массив y_pred_proba)."
   ]
  },
  {
   "cell_type": "code",
   "execution_count": 12,
   "metadata": {},
   "outputs": [],
   "source": [
    "def calc_pred_proba(W, X):\n",
    "    z = np.dot(W, X)\n",
    "    y_pred_proba = sigmoid(z)\n",
    "    return y_pred_proba"
   ]
  },
  {
   "cell_type": "code",
   "execution_count": 13,
   "metadata": {},
   "outputs": [
    {
     "data": {
      "text/plain": [
       "array([0.31571543, 0.00119614, 1.        , 0.02296622, 0.97254321,\n",
       "       0.00854318, 1.        , 0.0071326 , 0.67149388, 1.        ])"
      ]
     },
     "execution_count": 13,
     "metadata": {},
     "output_type": "execute_result"
    }
   ],
   "source": [
    "calc_pred_proba(W, X_norm)"
   ]
  },
  {
   "cell_type": "raw",
   "metadata": {},
   "source": [
    "y = np.array([0, 0, 1, 0, 1, 0, 1, 0, 1, 1])"
   ]
  },
  {
   "cell_type": "markdown",
   "metadata": {},
   "source": [
    "## 4. Создайте функцию calc_pred, возвращающую предсказанный класс (на вход подаются W, который уже посчитан функцией eval_model и X, на выходе - массив y_pred)."
   ]
  },
  {
   "cell_type": "code",
   "execution_count": 14,
   "metadata": {},
   "outputs": [],
   "source": [
    "def calc_pred(W, X):\n",
    "    z = np.dot(W, X)\n",
    "    y_pred = sigmoid(z)\n",
    "    y_pred = list(map(int,np.round(y_pred)))\n",
    "    return y_pred"
   ]
  },
  {
   "cell_type": "code",
   "execution_count": 15,
   "metadata": {},
   "outputs": [
    {
     "data": {
      "text/plain": [
       "[0, 0, 1, 0, 1, 0, 1, 0, 1, 1]"
      ]
     },
     "execution_count": 15,
     "metadata": {},
     "output_type": "execute_result"
    }
   ],
   "source": [
    "y_pred = calc_pred(W, X_norm)\n",
    "y_pred"
   ]
  },
  {
   "cell_type": "raw",
   "metadata": {},
   "source": [
    "y = np.array([0, 0, 1, 0, 1, 0, 1, 0, 1, 1])"
   ]
  },
  {
   "cell_type": "markdown",
   "metadata": {},
   "source": [
    "## 5. Посчитайте Accuracy, матрицу ошибок, точность и полноту, а также F1 score."
   ]
  },
  {
   "cell_type": "code",
   "execution_count": 16,
   "metadata": {},
   "outputs": [],
   "source": [
    "def calc_errors(y, y_pred):\n",
    "    TP = 0\n",
    "    FP = 0\n",
    "    FN = 0\n",
    "    TN = 0\n",
    "    for i in range(y.shape[0]):\n",
    "        if y_pred[i] == 1:\n",
    "            if y[i] == 1:\n",
    "                TP += 1\n",
    "            else:\n",
    "                FP +=1\n",
    "        if y_pred[i] == 0:\n",
    "            if y[i] == 1:\n",
    "                FN += 1\n",
    "            else:\n",
    "                TN += 1\n",
    "#     print(TP, FP, '\\n', FN, TN)\n",
    "    accuracy = (TP + TN) / (TP + TN + FP + FN)\n",
    "    precision = TP / (TP + FP)\n",
    "    recall = TP / (TP + FN)\n",
    "    f1 = (precision * recall) / (precision + recall) * 2\n",
    "    print('Accuracy = ', accuracy)\n",
    "    print('Precision = ', precision)\n",
    "    print('Recall = ', recall)\n",
    "    print('F1 score = ', f1)\n",
    "    return np.array([[TP, FP], [FN, TN]])"
   ]
  },
  {
   "cell_type": "code",
   "execution_count": 17,
   "metadata": {},
   "outputs": [],
   "source": [
    "def plot_conf_matrix(cm, classes, title = 'Матрица ошибок', cmap=plt.cm.Blues):\n",
    "    plt.imshow(cm, interpolation='nearest', cmap=cmap)\n",
    "    plt.title(title)\n",
    "    plt.colorbar()\n",
    "    tick_marks = np.arange(len(classes))\n",
    "    plt.xticks(tick_marks, classes)\n",
    "    plt.yticks(tick_marks, classes)\n",
    "    \n",
    "    print(cm)\n",
    "    \n",
    "    thresh = cm.max() / 2\n",
    "    for i, j in itertools.product(range(cm.shape[0]), range(cm.shape[1])):\n",
    "        plt.text( j, i, cm[i,j],\n",
    "                 horizontalalignment=\"center\", \n",
    "                 verticalalignment='center',\n",
    "                color='white' if cm[i,j] > thresh else 'black')\n",
    "    plt.tight_layout()\n",
    "    plt.ylabel('True label')\n",
    "    plt.xlabel('Predicted label')"
   ]
  },
  {
   "cell_type": "code",
   "execution_count": 18,
   "metadata": {},
   "outputs": [
    {
     "name": "stdout",
     "output_type": "stream",
     "text": [
      "Accuracy =  1.0\n",
      "Precision =  1.0\n",
      "Recall =  1.0\n",
      "F1 score =  1.0\n",
      "[[5 0]\n",
      " [0 5]]\n"
     ]
    },
    {
     "data": {
      "image/png": "[encoded data removed]",
      "text/plain": [
       "<Figure size 720x576 with 2 Axes>"
      ]
     },
     "metadata": {
      "needs_background": "light"
     },
     "output_type": "display_data"
    }
   ],
   "source": [
    "font = {'size': 15}\n",
    "plt.rc('font', **font)\n",
    "plt.figure(figsize=(10,8))\n",
    "plot_conf_matrix(calc_errors(y, y_pred), classes=['1', '0'])"
   ]
  },
  {
   "cell_type": "markdown",
   "metadata": {},
   "source": [
    "## 7*. Создайте функции eval_model_l1 и eval_model_l2 с применением L1 и L2 регуляризаций соответственно."
   ]
  },
  {
   "cell_type": "code",
   "execution_count": 22,
   "metadata": {},
   "outputs": [],
   "source": [
    "def eval_model_l1(X, y, iterations, alpha=1e-4, lambda_=1e-8):\n",
    "    np.random.seed(42)\n",
    "    W = np.random.randn(X.shape[0])\n",
    "    n = X.shape[1]\n",
    "    for i in range(1, iterations+1):\n",
    "        z = np.dot(W, X_norm)\n",
    "        y_pred = sigmoid(z)\n",
    "        err = calc_logloss(y, y_pred)\n",
    "        W -= alpha * (1/n * np.dot((y_pred - y), X_norm.T) + lambda_)\n",
    "        if i % (iterations / 10) == 0:\n",
    "            print(i, W, err)\n",
    "    return W"
   ]
  },
  {
   "cell_type": "code",
   "execution_count": 28,
   "metadata": {},
   "outputs": [
    {
     "name": "stdout",
     "output_type": "stream",
     "text": [
      "100000 [ 0.24823128 -1.21276685 -4.2018449  13.99180412] 0.2898312539446785\n",
      "200000 [ 0.69642453 -1.41944299 -7.55719535 18.78720498] 0.25332584298849825\n",
      "300000 [  1.04711494  -1.61036544 -10.03466495  22.68395331] 0.23020971144348876\n",
      "400000 [  1.3434905   -1.78215691 -12.12092975  26.06884782] 0.2128363442427285\n",
      "500000 [  1.60104146  -1.93725016 -13.95150791  29.08125828] 0.19902294512236396\n",
      "600000 [  1.8283601   -2.07810941 -15.58842582  31.79722326] 0.18772142287410426\n",
      "700000 [  2.03124741  -2.2067785  -17.06964133  34.26809719] 0.17829470538472678\n",
      "800000 [  2.21396547  -2.32493461 -18.42192426  36.53221853] 0.17031181434285084\n",
      "900000 [  2.37977897  -2.43396142 -19.66549957  38.61960471] 0.16346507036314167\n",
      "1000000 [  2.53125146  -2.53500819 -20.81622043  40.55437162] 0.15752763812159126\n"
     ]
    },
    {
     "data": {
      "text/plain": [
       "array([  2.53125146,  -2.53500819, -20.81622043,  40.55437162])"
      ]
     },
     "execution_count": 28,
     "metadata": {},
     "output_type": "execute_result"
    }
   ],
   "source": [
    "eval_model_l1(X_norm, y, iterations = 1000000, alpha=1e-2, lambda_=1e-3)"
   ]
  },
  {
   "cell_type": "code",
   "execution_count": 29,
   "metadata": {},
   "outputs": [],
   "source": [
    "def eval_model_l2(X, y, iterations, alpha=1e-4, lambda_=1e-8):\n",
    "    np.random.seed(42)\n",
    "    W = np.random.randn(X.shape[0])\n",
    "    n = X.shape[1]\n",
    "    for i in range(1, iterations+1):\n",
    "        z = np.dot(W, X_norm)\n",
    "        y_pred = sigmoid(z)\n",
    "        err = calc_logloss(y, y_pred)\n",
    "        W -= alpha * (1/n * np.dot((y_pred - y), X_norm.T) + lambda_ * W)\n",
    "        if i % (iterations / 10) == 0:\n",
    "            print(i, W, err)\n",
    "    return W"
   ]
  },
  {
   "cell_type": "code",
   "execution_count": 36,
   "metadata": {},
   "outputs": [
    {
     "name": "stdout",
     "output_type": "stream",
     "text": [
      "100000 [  1.69693656  -2.041161   -14.26767338  30.25074598] 0.19453247796549739\n",
      "200000 [  2.71547993  -2.71205517 -21.60681131  42.77132948] 0.1515112792603015\n",
      "300000 [  3.39578469  -3.19593605 -26.75433285  51.69941424] 0.1299813865559954\n",
      "400000 [  3.90572106  -3.57446347 -30.77042217  58.69343081] 0.11683818223831129\n",
      "500000 [  4.31480008  -3.88629881 -34.10877265  64.49771267] 0.10779352835865423\n",
      "600000 [  4.65767256  -4.15227861 -37.00102554  69.50258287] 0.10105895622515601\n",
      "700000 [  4.95388232  -4.3847992  -39.57986001  73.935901  ] 0.09576025472154268\n",
      "800000 [  5.21546995  -4.59180928 -41.92769234  77.941447  ] 0.09141961489167164\n",
      "900000 [  5.45036298  -4.77871283 -44.0988558   81.61541116] 0.08775345217103674\n",
      "1000000 [  5.66405951  -4.94936071 -46.13081562  85.02512794] 0.08458250307977229\n"
     ]
    },
    {
     "data": {
      "text/plain": [
       "array([  5.66405951,  -4.94936071, -46.13081562,  85.02512794])"
      ]
     },
     "execution_count": 36,
     "metadata": {},
     "output_type": "execute_result"
    }
   ],
   "source": [
    "eval_model_l2(X_norm, y, iterations = 1000000, alpha=5*1e-2, lambda_=1e-8)"
   ]
  }
 ],
 "metadata": {
  "colab": {
   "collapsed_sections": [],
   "name": "Lesson3.ipynb",
   "provenance": []
  },
  "kernelspec": {
   "display_name": "Python 3",
   "language": "python",
   "name": "python3"
  },
  "language_info": {
   "codemirror_mode": {
    "name": "ipython",
    "version": 3
   },
   "file_extension": ".py",
   "mimetype": "text/x-python",
   "name": "python",
   "nbconvert_exporter": "python",
   "pygments_lexer": "ipython3",
   "version": "3.7.0"
  }
 },
 "nbformat": 4,
 "nbformat_minor": 4
}
