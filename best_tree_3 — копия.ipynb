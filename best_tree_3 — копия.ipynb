{
 "cells": [
  {
   "cell_type": "markdown",
   "metadata": {
    "colab_type": "text",
    "id": "xnZ8vbGj5-cG"
   },
   "source": [
    "Построение дерева решений"
   ]
  },
  {
   "cell_type": "code",
   "execution_count": 1,
   "metadata": {},
   "outputs": [],
   "source": [
    "import pandas as pd\n",
    "import numpy as np\n",
    "from sklearn.model_selection import train_test_split\n",
    "\n",
    "import warnings\n",
    "warnings.simplefilter('ignore')\n",
    "\n",
    "import plotly.express as px"
   ]
  },
  {
   "cell_type": "code",
   "execution_count": 2,
   "metadata": {},
   "outputs": [],
   "source": [
    "df = pd.read_csv('Data/train.csv')\n",
    "df_test = pd.read_csv('Data/test.csv')"
   ]
  },
  {
   "cell_type": "code",
   "execution_count": 3,
   "metadata": {
    "colab": {},
    "colab_type": "code",
    "id": "phK1KhIKlX7a"
   },
   "outputs": [],
   "source": [
    "# Реализуем класс узла\n",
    "\n",
    "class Node:\n",
    "    \n",
    "    def __init__(self, index, t, true_branch, false_branch):\n",
    "        self.index = index  # индекс признака, по которому ведется сравнение с порогом в этом узле\n",
    "        self.t = t  # значение порога\n",
    "        self.true_branch = true_branch  # поддерево, удовлетворяющее условию в узле\n",
    "        self.false_branch = false_branch  # поддерево, не удовлетворяющее условию в узле"
   ]
  },
  {
   "cell_type": "code",
   "execution_count": 4,
   "metadata": {
    "colab": {},
    "colab_type": "code",
    "id": "4kTzZ2BQltog"
   },
   "outputs": [],
   "source": [
    "# И класс терминального узла (листа)\n",
    "\n",
    "class Leaf:\n",
    "    \n",
    "    def __init__(self, data, values):\n",
    "        self.data = data\n",
    "        self.values = values\n",
    "        self.prediction = self.predict()\n",
    "        \n",
    "    def predict(self):\n",
    "        # подсчет количества объектов разных классов\n",
    "        prediction = self.values.mean()\n",
    "        return prediction        "
   ]
  },
  {
   "cell_type": "code",
   "execution_count": 5,
   "metadata": {
    "colab": {},
    "colab_type": "code",
    "id": "XlIDYfOVmcfw"
   },
   "outputs": [],
   "source": [
    "# Расчет качества\n",
    "\n",
    "def quality(left_values, right_values):\n",
    "\n",
    "    \n",
    "    return left_values.var() + right_values.var()"
   ]
  },
  {
   "cell_type": "code",
   "execution_count": 6,
   "metadata": {
    "colab": {},
    "colab_type": "code",
    "id": "Ao51hFz3mixZ"
   },
   "outputs": [],
   "source": [
    "# Разбиение датасета в узле\n",
    "\n",
    "def split(data, values, index, t):\n",
    "    \n",
    "#     print(data.shape, values.shape, index, t)\n",
    "    \n",
    "    left = np.where(data[:, index] <= t)\n",
    "    right = np.where(data[:, index] > t)\n",
    "        \n",
    "    true_data = data[left]\n",
    "    false_data = data[right]\n",
    "    true_values = values[left]\n",
    "    false_values = values[right]\n",
    "        \n",
    "    return true_data, false_data, true_values, false_values"
   ]
  },
  {
   "cell_type": "code",
   "execution_count": 7,
   "metadata": {
    "colab": {},
    "colab_type": "code",
    "id": "-rRQWBiKmpSY"
   },
   "outputs": [],
   "source": [
    "# Нахождение наилучшего разбиения\n",
    "\n",
    "def find_best_split(data, values):\n",
    "    \n",
    "    #  обозначим минимальное количество объектов в узле\n",
    "    min_leaf = 5\n",
    "\n",
    "    best_quality = values.var() * 1e+5\n",
    "    best_t = None\n",
    "    best_index = None\n",
    "    \n",
    "    n_features = data.shape[1]\n",
    "    \n",
    "    for index in range(n_features):\n",
    "        t_values = [row[index] for row in data]\n",
    "#         print(t_values)\n",
    "        for t in t_values:\n",
    "#             print(t)\n",
    "            true_data, false_data, true_values, false_values = split(data, values, index, t)\n",
    "            #  пропускаем разбиения, в которых в узле остается менее 5 объектов\n",
    "            if len(true_data) < min_leaf or len(false_data) < min_leaf:\n",
    "                continue\n",
    "            \n",
    "            current_quality = quality(true_values, false_values)\n",
    "            \n",
    "            #  выбираем порог, на котором получается максимальный прирост качества\n",
    "            if current_quality < best_quality:\n",
    "                best_quality, best_t, best_index = current_quality, t, index\n",
    "\n",
    "    return best_quality, best_t, best_index"
   ]
  },
  {
   "cell_type": "code",
   "execution_count": 8,
   "metadata": {
    "colab": {},
    "colab_type": "code",
    "id": "dtX4GiJ_msrc"
   },
   "outputs": [],
   "source": [
    "# Построение дерева с помощью рекурсивной функции\n",
    "\n",
    "def build_tree(data, values, max_depth):\n",
    "\n",
    "    quality, t, index = find_best_split(data, values)\n",
    "\n",
    "    #  Базовый случай - прекращаем рекурсию, когда нет прироста в качества\n",
    "    if quality == 0:\n",
    "        return Leaf(data, values)\n",
    "    elif values.var() == 0:\n",
    "        return Leaf(data, values)\n",
    "    elif data.shape[0] < 15:\n",
    "        return Leaf(data, values)\n",
    "    elif max_depth == 0:\n",
    "        return Leaf(data, values)\n",
    "        \n",
    "\n",
    "    true_data, false_data, true_values, false_values = split(data, values, index, t)\n",
    "    max_depth -= 1\n",
    "    # Рекурсивно строим два поддерева\n",
    "    true_branch = build_tree(true_data, true_values, max_depth)\n",
    "    false_branch = build_tree(false_data, false_values, max_depth)\n",
    "\n",
    "    # Возвращаем класс узла со всеми поддеревьями, то есть целого дерева\n",
    "    return Node(index, t, true_branch, false_branch)"
   ]
  },
  {
   "cell_type": "code",
   "execution_count": 9,
   "metadata": {
    "colab": {},
    "colab_type": "code",
    "id": "mZYbZj6Rmzb1"
   },
   "outputs": [],
   "source": [
    "def classify_object(obj, node):\n",
    "\n",
    "    #  Останавливаем рекурсию, если достигли листа\n",
    "    if isinstance(node, Leaf):\n",
    "        answer = node.prediction\n",
    "        return answer\n",
    "\n",
    "    if obj[node.index] <= node.t:\n",
    "        return classify_object(obj, node.true_branch)\n",
    "    else:\n",
    "        return classify_object(obj, node.false_branch)"
   ]
  },
  {
   "cell_type": "code",
   "execution_count": 10,
   "metadata": {
    "colab": {},
    "colab_type": "code",
    "id": "6wLARRqcm8e4"
   },
   "outputs": [],
   "source": [
    "def predict(data, tree):\n",
    "    \n",
    "    values = []\n",
    "    for obj in data:\n",
    "        prediction = classify_object(obj, tree)\n",
    "        values.append(prediction)\n",
    "    return values"
   ]
  },
  {
   "cell_type": "code",
   "execution_count": 11,
   "metadata": {},
   "outputs": [],
   "source": [
    "X = df[df.columns[1:-1]].to_numpy()\n",
    "y = df[df.columns[-1]].to_numpy()"
   ]
  },
  {
   "cell_type": "code",
   "execution_count": 12,
   "metadata": {
    "colab": {},
    "colab_type": "code",
    "id": "7WTpjKodnCsX"
   },
   "outputs": [],
   "source": [
    "# Разобьем выборку на обучающую и тестовую\n",
    "\n",
    "from sklearn import model_selection\n",
    "\n",
    "train_data, test_data, train_values, test_values = model_selection.train_test_split(X, y, test_size = 0.3, random_state = 1)"
   ]
  },
  {
   "cell_type": "code",
   "execution_count": null,
   "metadata": {},
   "outputs": [],
   "source": []
  },
  {
   "cell_type": "code",
   "execution_count": 13,
   "metadata": {
    "colab": {},
    "colab_type": "code",
    "id": "_dTp31ZFnF4Z"
   },
   "outputs": [
    {
     "name": "stdout",
     "output_type": "stream",
     "text": [
      "Wall time: 38.7 s\n"
     ]
    }
   ],
   "source": [
    "%%time\n",
    "# Построим дерево по обучающей выборке\n",
    "my_tree = build_tree(train_data, train_values, 3)"
   ]
  },
  {
   "cell_type": "code",
   "execution_count": 14,
   "metadata": {
    "colab": {},
    "colab_type": "code",
    "id": "HtiyOwgVnOFX"
   },
   "outputs": [],
   "source": [
    "# Получим ответы для обучающей выборки \n",
    "train_answers = predict(train_data, my_tree)"
   ]
  },
  {
   "cell_type": "code",
   "execution_count": 15,
   "metadata": {
    "colab": {},
    "colab_type": "code",
    "id": "qZ4jhhipnUA0"
   },
   "outputs": [],
   "source": [
    "# И получим ответы для тестовой выборки\n",
    "answers = predict(test_data, my_tree)"
   ]
  },
  {
   "cell_type": "code",
   "execution_count": 16,
   "metadata": {
    "colab": {},
    "colab_type": "code",
    "id": "ttzvKefhnXMP"
   },
   "outputs": [],
   "source": [
    "# Введем функцию подсчета точности R2\n",
    "def r2(y_real, y_pred):\n",
    "    r2 = 1 - np.sum(np.square(y_real - y_pred))/np.sum(np.square(y_real - y_real.mean()))\n",
    "    return r2"
   ]
  },
  {
   "cell_type": "code",
   "execution_count": 17,
   "metadata": {
    "colab": {
     "base_uri": "https://localhost:8080/",
     "height": 34
    },
    "colab_type": "code",
    "id": "dhh8JebBnal0",
    "outputId": "abd9f0ee-eabc-4333-8c8a-8cf98f84a7d1"
   },
   "outputs": [
    {
     "data": {
      "text/plain": [
       "0.6173435960072137"
      ]
     },
     "execution_count": 17,
     "metadata": {},
     "output_type": "execute_result"
    }
   ],
   "source": [
    "# Точность на обучающей выборке\n",
    "train_accuracy = r2(train_values, train_answers)\n",
    "train_accuracy"
   ]
  },
  {
   "cell_type": "code",
   "execution_count": 18,
   "metadata": {
    "colab": {
     "base_uri": "https://localhost:8080/",
     "height": 34
    },
    "colab_type": "code",
    "id": "FMDk422jneNZ",
    "outputId": "2b5585b9-6fd8-45f5-961c-ea44b82501fd"
   },
   "outputs": [
    {
     "data": {
      "text/plain": [
       "0.6007861525667798"
      ]
     },
     "execution_count": 18,
     "metadata": {},
     "output_type": "execute_result"
    }
   ],
   "source": [
    "# Точность на тестовой выборке\n",
    "test_accuracy = r2(test_values, answers)\n",
    "test_accuracy"
   ]
  },
  {
   "cell_type": "code",
   "execution_count": null,
   "metadata": {
    "colab": {},
    "colab_type": "code",
    "id": "og8oyRGDnms2"
   },
   "outputs": [],
   "source": []
  },
  {
   "cell_type": "code",
   "execution_count": 19,
   "metadata": {},
   "outputs": [],
   "source": [
    "def gb_predict(X, trees_list, eta):\n",
    "    answers = np.zeros(X.shape[0])\n",
    "    for tree in trees_list:\n",
    "        answers_new = predict(X, tree)\n",
    "        answers = answers + np.array(answers_new)*eta\n",
    "    \n",
    "    return answers"
   ]
  },
  {
   "cell_type": "markdown",
   "metadata": {},
   "source": [
    "Напишем производную от функции ошибки MSE, для того чтобы посчитать антиградиент"
   ]
  },
  {
   "cell_type": "code",
   "execution_count": 20,
   "metadata": {},
   "outputs": [],
   "source": [
    "def bias(y, z):\n",
    "    return (y - z)"
   ]
  },
  {
   "cell_type": "code",
   "execution_count": 21,
   "metadata": {},
   "outputs": [],
   "source": [
    "def first_val(y_true):\n",
    "    y_true[:] = y_true.mean()\n",
    "    return "
   ]
  },
  {
   "cell_type": "code",
   "execution_count": 22,
   "metadata": {},
   "outputs": [],
   "source": [
    "def gb_fit(n_trees, train_data, test_data, train_values, test_values, eta, max_depth):\n",
    "    \n",
    "    # Деревья будем записывать в список\n",
    "    trees = []\n",
    "    \n",
    "    # Будем записывать ошибки на обучающей и тестовой выборке на каждой итерации в список\n",
    "    train_errors = []\n",
    "    test_errors = []\n",
    "    \n",
    "    for i in range(n_trees):\n",
    "        print('Итерация ', i, end='\\r')\n",
    "#         tree = build_tree()\n",
    "\n",
    "        # инициализируем бустинг начальным алгоритмом, возвращающим ноль, \n",
    "        # поэтому первый алгоритм просто обучаем на выборке и добавляем в список\n",
    "        if len(trees) == 0:\n",
    "            # обучаем первое дерево на обучающей выборке\n",
    "            tree = build_tree(train_data, train_values, max_depth)\n",
    "            print('Ошибка на итерации {} = {}'.format(i, r2(train_values, gb_predict(train_data, trees, eta))))\n",
    "            \n",
    "            train_errors.append(r2(train_values, gb_predict(train_data, trees, eta)))\n",
    "            test_errors.append(r2(test_values, gb_predict(test_data, trees, eta)))\n",
    "#             print('Дерево ', i)\n",
    "#             evaluate_alg_1(X_train, X_test, y_train, y_test, tree, eta)\n",
    "        else:\n",
    "            # Получим ответы на текущей композиции\n",
    "            target = gb_predict(train_data, trees, eta)\n",
    "            \n",
    "            # алгоритмы начиная со второго обучаем на сдвиг\n",
    "            tree = build_tree(train_data, bias(train_values, target), max_depth)\n",
    "#             print(bias(y_train, target))\n",
    "\n",
    "            print('Ошибка на итерации {} = {}'.format(i, r2(train_values, gb_predict(train_data, trees, eta))))\n",
    "            print('Ошибка на тесте на итерации {} = {}'.format(i, r2(test_values, gb_predict(test_data, trees, eta))))\n",
    "            train_errors.append(r2(train_values, gb_predict(train_data, trees, eta)))\n",
    "            test_errors.append(r2(test_values, gb_predict(test_data, trees, eta)))\n",
    "\n",
    "        trees.append(tree)\n",
    "        \n",
    "#         evaluate_alg_1(X_train, X_test, y_train, y_test, trees, eta)\n",
    "    last_tree = trees[-1]\n",
    "        \n",
    "        \n",
    "    return trees, train_errors, test_errors, last_tree"
   ]
  },
  {
   "cell_type": "code",
   "execution_count": 23,
   "metadata": {},
   "outputs": [],
   "source": [
    "def evaluate_alg(X_train, X_test, y_train, y_test, trees, eta):\n",
    "    train_prediction = gb_predict(X_train, trees, eta)\n",
    "\n",
    "    print(f'Ошибка алгоритма из {n_trees} деревьев  \\\n",
    "    с шагом {eta} на тренировочной выборке: {r2(y_train, train_prediction)}')\n",
    "\n",
    "    test_prediction = gb_predict(X_test, trees, eta)\n",
    "\n",
    "    print(f'Ошибка алгоритма из {n_trees} деревьев  \\\n",
    "    с шагом {eta} на тестовой выборке: {r2(y_test, test_prediction)}')"
   ]
  },
  {
   "cell_type": "code",
   "execution_count": null,
   "metadata": {},
   "outputs": [
    {
     "name": "stdout",
     "output_type": "stream",
     "text": [
      "Ошибка на итерации 0 = -22.466397322351927\n",
      "Ошибка на итерации 1 = -5.153591633582571\n",
      "Ошибка на тесте на итерации 1 = -5.244008160875516\n",
      "Ошибка на итерации 2 = -0.9384799334392897\n",
      "Ошибка на тесте на итерации 2 = -0.9407184578622674\n",
      "Ошибка на итерации 3 = 0.11529799159653087\n",
      "Ошибка на тесте на итерации 3 = 0.12222550868684479\n",
      "Ошибка на итерации 4 = 0.37874247285548546\n",
      "Ошибка на тесте на итерации 4 = 0.38152227072202294\n",
      "Ошибка на итерации 5 = 0.4446035931702246\n",
      "Ошибка на тесте на итерации 5 = 0.44312684642976763\n",
      "Ошибка на итерации 6 = 0.4610688732489092\n",
      "Ошибка на тесте на итерации 6 = 0.45691818295617914\n",
      "Ошибка на итерации 7 = 0.4651851932685803\n",
      "Ошибка на тесте на итерации 7 = 0.45956111338751915\n",
      "Ошибка на итерации 8 = 0.4662142732734982\n",
      "Ошибка на тесте на итерации 8 = 0.459819394145223\n",
      "Ошибка на итерации 9 = 0.4664715432747276\n",
      "Ошибка на тесте на итерации 9 = 0.4596827384095834\n",
      "Ошибка на итерации 10 = 0.46653586077503517\n",
      "Ошибка на тесте на итерации 10 = 0.4595479615131408\n",
      "Ошибка на итерации 11 = 0.4665519401501117\n",
      "Ошибка на тесте на итерации 11 = 0.45946396080776364\n",
      "Ошибка на итерации 12 = 0.466555959993881\n",
      "Ошибка на тесте на итерации 12 = 0.4594178073907861\n",
      "Ошибка на итерации 13 = 0.46655696495482324\n",
      "Ошибка на тесте на итерации 13 = 0.4593936924162252\n",
      "Ошибка на итерации 14 = 0.4665572161950591\n",
      "Ошибка на тесте на итерации 14 = 0.45938137536242685\n",
      "Ошибка на итерации 15 = 0.4665572790051178\n",
      "Ошибка на тесте на итерации 15 = 0.4593751519438978\n",
      "Ошибка на итерации 16 = 0.4665572947076325\n",
      "Ошибка на тесте на итерации 16 = 0.45937202401172605\n",
      "Ошибка на итерации 17 = 0.4665572986332611\n",
      "Ошибка на тесте на итерации 17 = 0.45937045598991333\n",
      "Ошибка на итерации 18 = 0.4665572996146683\n",
      "Ошибка на тесте на итерации 18 = 0.4593696709650752\n",
      "Ошибка на итерации 19 = 0.46655729986002004\n",
      "Ошибка на тесте на итерации 19 = 0.4593692781991734\n",
      "Ошибка на итерации 20 = 0.4665572999213582\n",
      "Ошибка на тесте на итерации 20 = 0.45936908175285185\n",
      "Ошибка на итерации 21 = 0.4665572999366925\n",
      "Ошибка на тесте на итерации 21 = 0.4593689835138479\n",
      "Ошибка на итерации 22 = 0.4665572999405262\n",
      "Ошибка на тесте на итерации 22 = 0.4593689343903855\n",
      "Ошибка на итерации 23 = 0.46655729994148476\n",
      "Ошибка на тесте на итерации 23 = 0.45936890982766443\n",
      "Ошибка на итерации 24 = 0.46655729994172424\n",
      "Ошибка на тесте на итерации 24 = 0.4593688975460559\n",
      "Ошибка на итерации 25 = 0.4665572999417841\n",
      "Ошибка на тесте на итерации 25 = 0.4593688914051899\n",
      "Ошибка на итерации 26 = 0.4665572999417992\n",
      "Ошибка на тесте на итерации 26 = 0.45936888833474177\n",
      "Ошибка на итерации 27 = 0.46655729994180295\n",
      "Ошибка на тесте на итерации 27 = 0.4593688867995136\n",
      "Ошибка на итерации 28 = 0.4665572999418037\n",
      "Ошибка на тесте на итерации 28 = 0.4593688860318983\n",
      "Ошибка на итерации 29 = 0.46655729994180417\n",
      "Ошибка на тесте на итерации 29 = 0.45936888564809075\n",
      "Ошибка на итерации 30 = 0.46655729994180395\n",
      "Ошибка на тесте на итерации 30 = 0.4593688854561867\n",
      "Ошибка на итерации 31 = 0.4665572999418043\n",
      "Ошибка на тесте на итерации 31 = 0.4593688853602349\n",
      "Ошибка на итерации 32 = 0.46655729994180395\n",
      "Ошибка на тесте на итерации 32 = 0.4593688853122587\n",
      "Ошибка на итерации 33 = 0.46655729994180406\n",
      "Ошибка на тесте на итерации 33 = 0.4593688852882707\n",
      "Ошибка на итерации 34 = 0.4665572999418043\n",
      "Ошибка на тесте на итерации 34 = 0.45936888527627684\n",
      "Ошибка на итерации 35 = 0.4665572999418043\n",
      "Ошибка на тесте на итерации 35 = 0.45936888527027997\n",
      "Ошибка на итерации 36 = 0.46655729994180406\n",
      "Ошибка на тесте на итерации 36 = 0.45936888526728115\n",
      "Ошибка на итерации 37 = 0.46655729994180406\n",
      "Ошибка на тесте на итерации 37 = 0.4593688852657819\n",
      "Ошибка на итерации 38 = 0.4665572999418043\n",
      "Ошибка на тесте на итерации 38 = 0.4593688852650324\n",
      "Итерация  39\r"
     ]
    }
   ],
   "source": [
    "%%time\n",
    "# Число деревьев в ансамбле\n",
    "n_trees = 50\n",
    "\n",
    "# глубина деревьев\n",
    "max_depth = 3\n",
    "\n",
    "# Шаг\n",
    "eta = 0.5\n",
    "\n",
    "trees, train_errors, test_errors, last_tree = gb_fit(n_trees, train_data, test_data, train_values, test_values, eta, max_depth)"
   ]
  },
  {
   "cell_type": "code",
   "execution_count": 25,
   "metadata": {},
   "outputs": [
    {
     "name": "stdout",
     "output_type": "stream",
     "text": [
      "Ошибка алгоритма из 20 деревьев      с шагом 0.5 на тренировочной выборке: 0.4665572999213582\n",
      "Ошибка алгоритма из 20 деревьев      с шагом 0.5 на тестовой выборке: 0.45936908175285185\n"
     ]
    }
   ],
   "source": [
    "evaluate_alg(train_data, test_data, train_values, test_values, trees, eta)"
   ]
  },
  {
   "cell_type": "raw",
   "metadata": {},
   "source": [
    "test = df_test[df_test.columns[1:]].to_numpy()"
   ]
  },
  {
   "cell_type": "raw",
   "metadata": {},
   "source": [
    "test_prediction = gb_predict(test, trees, eta)"
   ]
  },
  {
   "cell_type": "raw",
   "metadata": {},
   "source": [
    "test_prediction.shape"
   ]
  },
  {
   "cell_type": "raw",
   "metadata": {},
   "source": [
    "df_test['mean_exam_points'] = test_prediction"
   ]
  },
  {
   "cell_type": "raw",
   "metadata": {},
   "source": [
    "df_to_write = df_test[['Id', 'mean_exam_points']]"
   ]
  },
  {
   "cell_type": "raw",
   "metadata": {},
   "source": [
    "df_to_write.to_csv('ssv_preds_gbm_1.csv', index=False)"
   ]
  },
  {
   "cell_type": "code",
   "execution_count": null,
   "metadata": {},
   "outputs": [],
   "source": []
  }
 ],
 "metadata": {
  "colab": {
   "collapsed_sections": [],
   "name": "Lesson4.ipynb",
   "provenance": []
  },
  "kernelspec": {
   "display_name": "Python 3",
   "language": "python",
   "name": "python3"
  },
  "language_info": {
   "codemirror_mode": {
    "name": "ipython",
    "version": 3
   },
   "file_extension": ".py",
   "mimetype": "text/x-python",
   "name": "python",
   "nbconvert_exporter": "python",
   "pygments_lexer": "ipython3",
   "version": "3.7.0"
  }
 },
 "nbformat": 4,
 "nbformat_minor": 4
}
