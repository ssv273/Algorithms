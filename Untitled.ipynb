{
 "cells": [
  {
   "cell_type": "code",
   "execution_count": 20,
   "metadata": {},
   "outputs": [],
   "source": [
    "import pandas as pd\n",
    "import numpy as np\n",
    "from sklearn.model_selection import train_test_split\n",
    "from sklearn.metrics import mean_squared_error as mse\n",
    "\n",
    "import warnings\n",
    "warnings.simplefilter('ignore')\n",
    "\n",
    "%matplotlib inline\n",
    "import matplotlib.pyplot as plt"
   ]
  },
  {
   "cell_type": "code",
   "execution_count": 3,
   "metadata": {},
   "outputs": [],
   "source": [
    "df = pd.read_csv('Data/train.csv')\n",
    "df_test = pd.read_csv('Data/test.csv')"
   ]
  },
  {
   "cell_type": "code",
   "execution_count": 22,
   "metadata": {},
   "outputs": [],
   "source": [
    "train, test = train_test_split(df, test_size = 0.25, random_state = 42)"
   ]
  },
  {
   "cell_type": "code",
   "execution_count": 23,
   "metadata": {},
   "outputs": [],
   "source": [
    "X_train = train[df.columns[1:-1]].to_numpy()\n",
    "y_train = train[df.columns[-1]].to_numpy()"
   ]
  },
  {
   "cell_type": "code",
   "execution_count": 26,
   "metadata": {},
   "outputs": [],
   "source": [
    "X_test = test[df.columns[1:-1]].to_numpy()\n",
    "y_test = test[df.columns[-1]].to_numpy()"
   ]
  },
  {
   "cell_type": "code",
   "execution_count": 27,
   "metadata": {},
   "outputs": [
    {
     "data": {
      "text/plain": [
       "((7500, 10), (2500, 10))"
      ]
     },
     "execution_count": 27,
     "metadata": {},
     "output_type": "execute_result"
    }
   ],
   "source": [
    "X_train.shape, X_test.shape"
   ]
  },
  {
   "cell_type": "markdown",
   "metadata": {},
   "source": [
    "# R2"
   ]
  },
  {
   "cell_type": "code",
   "execution_count": 25,
   "metadata": {},
   "outputs": [],
   "source": [
    "# Введем функцию подсчета точности R2\n",
    "def r2(y_real, y_pred):\n",
    "    r2 = 1 - np.sum(np.square(y_real - y_pred))/np.sum(np.square(y_real - y_real.mean()))\n",
    "    return r2"
   ]
  },
  {
   "cell_type": "code",
   "execution_count": null,
   "metadata": {},
   "outputs": [],
   "source": []
  },
  {
   "cell_type": "code",
   "execution_count": 7,
   "metadata": {},
   "outputs": [],
   "source": [
    "class RegressionTree():\n",
    "    \n",
    "    '''\n",
    "    Класс RegressionTree решает задачу регрессии. Основан на рекурсивных\n",
    "    вызовах, когда прописываются условия выхода из рекурсии. \n",
    "    '''\n",
    "    \n",
    "    def __init__(self, max_depth=3, n_epoch=10, min_size=8):\n",
    "        \n",
    "        '''\n",
    "        Объявляем переменные класса.\n",
    "        '''\n",
    "        \n",
    "        self.max_depth = max_depth # максимальная глубина\n",
    "        self.min_size = min_size # минимальный размер поддерева\n",
    "        self.value = 0 # значение в поддереве (среднее по всем листьям)\n",
    "        self.feature_idx = -1 # номер лучшего признака\n",
    "        self.feature_threshold = 0 # значение лучшего признака\n",
    "        self.left = None # левый потомок\n",
    "        self.right = None # правый потомок\n",
    "        \n",
    "    def fit(self, X, y):\n",
    "        \n",
    "        '''\n",
    "        Процедура обучения дерева. На выходе получим обученную модель.\n",
    "        '''\n",
    "        \n",
    "        # инициализируем начальные значения\n",
    "        self.value = y.mean()\n",
    "        base_error = ((y - self.value) ** 2).sum()\n",
    "        error = base_error\n",
    "        flag = 0\n",
    "        \n",
    "        # ошибки в левом и правом поддереве\n",
    "        prev_error_left = base_error\n",
    "        prev_error_right = 0\n",
    "        \n",
    "        # если дошли до глубины 0 - выходим\n",
    "        if self.max_depth <= 1:\n",
    "            return\n",
    "    \n",
    "        dim_shape = X.shape[1]\n",
    "        \n",
    "        # значения в левом и правом поддереве\n",
    "        left_value = 0\n",
    "        right_value = 0\n",
    "        \n",
    "        # начинаем цикл по признакам\n",
    "        for feat in range(dim_shape):\n",
    "            \n",
    "            # сортируем признаки\n",
    "            idxs = np.argsort(X[:, feat])\n",
    "            \n",
    "            # количество сэмплов в левом и правом поддереве\n",
    "            N = X.shape[0]\n",
    "            N1, N2 = N, 0\n",
    "            thres = 1\n",
    "            \n",
    "            # начинаем проходиться по значениям признака\n",
    "            while thres < N - 1:\n",
    "                N1 -= 1\n",
    "                N2 += 1\n",
    "                \n",
    "                idx = idxs[thres]\n",
    "                x = X[idx, feat]\n",
    "                \n",
    "                # пропускаем одинаковые признаки\n",
    "                if thres < N - 1 and x == X[idxs[thres + 1], feat]:\n",
    "\n",
    "                    thres += 1\n",
    "                    continue\n",
    "                \n",
    "                # данные, которые получаются у нас в результате такого сплита\n",
    "                target_right = y[idxs][:thres]\n",
    "                target_left = y[idxs][thres:]\n",
    "                mean_right = y[idxs][:thres].mean(), \n",
    "                mean_left = y[idxs][thres:].mean()\n",
    "                \n",
    "                # на этом шаге уже нужно считать ошибку - \n",
    "                # генерируем предикты (среднее в потомках)\n",
    "                left_shape = target_left.shape[0]\n",
    "                right_shape = target_right.shape[0]\n",
    "                mean_left_array = [mean_left for _ in range(left_shape)]\n",
    "                mean_right_array = [mean_right for _ in range(right_shape)]\n",
    "                \n",
    "                # считаем ошибку слева и справа\n",
    "                prev_error_left = N1/N * mse(target_left, mean_left_array) \n",
    "                prev_error_right = N2/N * mse(target_right, mean_right_array)\n",
    "                \n",
    "                # если выполняются условия сплита, то обновляем\n",
    "                if (prev_error_left + prev_error_right < error):\n",
    "                        if (min(N1,N2) > self.min_size):\n",
    "                            self.feature_idx = feat\n",
    "                            self.feature_threshold = x\n",
    "                            left_value = mean_left\n",
    "                            right_value = mean_right\n",
    "\n",
    "                            flag = 1\n",
    "                            error = prev_error_left + prev_error_right\n",
    "                                     \n",
    "                thres += 1\n",
    "        \n",
    "        # если не нашли лучший сплит, выходим\n",
    "        if self.feature_idx == -1:\n",
    "            return\n",
    "        \n",
    "        # дошли сюда - есть хорошее разбиение, нужно обучать дальше\n",
    "        # инициализируем потомков - те же деревья решений\n",
    "        self.left = RegressionTree(self.max_depth - 1)\n",
    "        self.left.value = left_value\n",
    "        self.right = RegressionTree(self.max_depth - 1)\n",
    "        self.right.value = right_value\n",
    "        \n",
    "        # индексы потомков\n",
    "        idxs_l = (X[:, self.feature_idx] > self.feature_threshold)\n",
    "        idxs_r = (X[:, self.feature_idx] <= self.feature_threshold)\n",
    "        \n",
    "        # обучаем\n",
    "        self.left.fit(X[idxs_l, :], y[idxs_l])\n",
    "        self.right.fit(X[idxs_r, :], y[idxs_r])\n",
    "        \n",
    "    def __predict(self, x):\n",
    "        \n",
    "        '''\n",
    "        Функция для генерирования предсказания - смотрим узлы, идем \n",
    "        в соответствующих  потомков и смотрим в конце self.value - это\n",
    "        и будет ответом.\n",
    "        '''\n",
    "        \n",
    "        if self.feature_idx == -1:\n",
    "            return self.value\n",
    "        \n",
    "        if x[self.feature_idx] > self.feature_threshold:\n",
    "            return self.left.__predict(x)\n",
    "        else:\n",
    "            return self.right.__predict(x)\n",
    "        \n",
    "    def predict(self, X):\n",
    "        \n",
    "        '''\n",
    "        Предикт для матрицы - просто для каждой строчки вызываем __predict().\n",
    "        '''\n",
    "        \n",
    "        y = np.zeros(X.shape[0])\n",
    "        \n",
    "        for i in range(X.shape[0]):\n",
    "            y[i] = self.__predict(X[i])\n",
    "            \n",
    "        return y"
   ]
  },
  {
   "cell_type": "code",
   "execution_count": 28,
   "metadata": {},
   "outputs": [
    {
     "name": "stdout",
     "output_type": "stream",
     "text": [
      "Wall time: 315 ms\n"
     ]
    }
   ],
   "source": [
    "%%time\n",
    "A = RegressionTree(2) # это наш алгоритм\n",
    "A.fit(X_train,y_train)"
   ]
  },
  {
   "cell_type": "code",
   "execution_count": null,
   "metadata": {},
   "outputs": [],
   "source": []
  },
  {
   "cell_type": "code",
   "execution_count": null,
   "metadata": {},
   "outputs": [],
   "source": []
  },
  {
   "cell_type": "code",
   "execution_count": null,
   "metadata": {},
   "outputs": [],
   "source": []
  },
  {
   "cell_type": "code",
   "execution_count": null,
   "metadata": {},
   "outputs": [],
   "source": []
  },
  {
   "cell_type": "code",
   "execution_count": null,
   "metadata": {},
   "outputs": [],
   "source": [
    "from sklearn.tree import DecisionTreeRegressor"
   ]
  },
  {
   "cell_type": "code",
   "execution_count": 10,
   "metadata": {},
   "outputs": [
    {
     "name": "stdout",
     "output_type": "stream",
     "text": [
      "Wall time: 3.03 ms\n"
     ]
    },
    {
     "data": {
      "text/plain": [
       "DecisionTreeRegressor(criterion='mse', max_depth=2, max_features=None,\n",
       "                      max_leaf_nodes=None, min_impurity_decrease=0.0,\n",
       "                      min_impurity_split=None, min_samples_leaf=1,\n",
       "                      min_samples_split=2, min_weight_fraction_leaf=0.0,\n",
       "                      presort=False, random_state=None, splitter='best')"
      ]
     },
     "execution_count": 10,
     "metadata": {},
     "output_type": "execute_result"
    }
   ],
   "source": [
    "%%time\n",
    "model = DecisionTreeRegressor(max_depth=2)\n",
    " # из Sklearn\n",
    "model.fit(X,y)"
   ]
  },
  {
   "cell_type": "code",
   "execution_count": 11,
   "metadata": {},
   "outputs": [],
   "source": [
    "class RegressionTreeFastMse():\n",
    "    \n",
    "    '''\n",
    "    Класс RegressionTree с быстрым пересчетом ошибки. Сложность пересчета ошибки\n",
    "    на каждой итерации составляет O(1).\n",
    "    '''\n",
    "    \n",
    "    # объявляем характеристики класса\n",
    "    def __init__(self, max_depth=3, min_size=10):\n",
    "        \n",
    "        self.max_depth = max_depth\n",
    "        self.min_size = min_size\n",
    "        self.value = 0\n",
    "        self.feature_idx = -1\n",
    "        self.feature_threshold = 0\n",
    "        self.left = None\n",
    "        self.right = None\n",
    "        \n",
    "    # процедура обучения - сюда передается обучающая выборка\n",
    "    def fit(self, X, y):\n",
    "        \n",
    "        # начальное значение - среднее значение y\n",
    "        self.value = y.mean()\n",
    "        # начальная ошибка - mse между значением в листе (пока нет\n",
    "        # разбиения, это среднее по всем объектам) и объектами\n",
    "        base_error = ((y - self.value) ** 2).sum()\n",
    "        error = base_error\n",
    "        flag = 0\n",
    "        \n",
    "        # пришли в максимальную глубину\n",
    "        if self.max_depth <= 1:\n",
    "            return\n",
    "    \n",
    "        dim_shape = X.shape[1]\n",
    "        \n",
    "        left_value, right_value = 0, 0\n",
    "        \n",
    "        for feat in range(dim_shape):\n",
    "            \n",
    "            prev_error1, prev_error2 = base_error, 0 \n",
    "            idxs = np.argsort(X[:, feat])\n",
    "            \n",
    "            # переменные для быстрого переброса суммы\n",
    "            mean1, mean2 = y.mean(), 0\n",
    "            sm1, sm2 = y.sum(), 0\n",
    "            \n",
    "            N = X.shape[0]\n",
    "            N1, N2 = N, 0\n",
    "            thres = 1\n",
    "            \n",
    "            while thres < N - 1:\n",
    "                N1 -= 1\n",
    "                N2 += 1\n",
    "\n",
    "                idx = idxs[thres]\n",
    "                x = X[idx, feat]\n",
    "                \n",
    "                # вычисляем дельты - по ним в основном будет делаться переброс\n",
    "                delta1 = (sm1 - y[idx]) * 1.0 / N1 - mean1\n",
    "                delta2 = (sm2 + y[idx]) * 1.0 / N2 - mean2\n",
    "                \n",
    "                # увеличиваем суммы\n",
    "                sm1 -= y[idx]\n",
    "                sm2 += y[idx]\n",
    "                \n",
    "                # пересчитываем ошибки за O(1)\n",
    "                prev_error1 += (delta1**2) * N1 \n",
    "                prev_error1 -= (y[idx] - mean1)**2 \n",
    "                prev_error1 -= 2 * delta1 * (sm1 - mean1 * N1)\n",
    "                mean1 = sm1/N1\n",
    "                \n",
    "                prev_error2 += (delta2**2) * N2 \n",
    "                prev_error2 += (y[idx] - mean2)**2 \n",
    "                prev_error2 -= 2 * delta2 * (sm2 - mean2 * N2)\n",
    "                mean2 = sm2/N2\n",
    "                \n",
    "                # пропускаем близкие друг к другу значения\n",
    "                if thres < N - 1 and np.abs(x - X[idxs[thres + 1], feat]) < 1e-5:\n",
    "                    thres += 1\n",
    "                    continue\n",
    "                \n",
    "                # 2 условия, чтобы осуществить сплит - уменьшение ошибки \n",
    "                # и минимальное кол-о эл-в в каждом листе\n",
    "                if (prev_error1 + prev_error2 < error):\n",
    "                    if (min(N1,N2) > self.min_size):\n",
    "                    \n",
    "                        # переопределяем самый лучший признак и границу по нему\n",
    "                        self.feature_idx, self.feature_threshold = feat, x\n",
    "                        # переопределяем значения в листах\n",
    "                        left_value, right_value = mean1, mean2\n",
    "\n",
    "                        # флаг - значит сделали хороший сплит\n",
    "                        flag = 1\n",
    "                        error = prev_error1 + prev_error2\n",
    "                                     \n",
    "                thres += 1\n",
    " \n",
    "        # ничего не разделили, выходим\n",
    "        if self.feature_idx == -1:\n",
    "            return\n",
    "        \n",
    "        self.left = RegressionTreeFastMse(self.max_depth - 1)\n",
    "        # print (\"Левое поддерево с глубиной %d\"%(self.max_depth - 1))\n",
    "        self.left.value = left_value\n",
    "        self.right = RegressionTreeFastMse(self.max_depth - 1)\n",
    "        # print (\"Правое поддерево с глубиной %d\"%(self.max_depth - 1))\n",
    "        self.right.value = right_value\n",
    "        \n",
    "        idxs_l = (X[:, self.feature_idx] > self.feature_threshold)\n",
    "        idxs_r = (X[:, self.feature_idx] <= self.feature_threshold)\n",
    "    \n",
    "        self.left.fit(X[idxs_l, :], y[idxs_l])\n",
    "        self.right.fit(X[idxs_r, :], y[idxs_r])\n",
    "        \n",
    "    def __predict(self, x):\n",
    "        if self.feature_idx == -1:\n",
    "            return self.value\n",
    "        \n",
    "        if x[self.feature_idx] > self.feature_threshold:\n",
    "            return self.left.__predict(x)\n",
    "        else:\n",
    "            return self.right.__predict(x)\n",
    "        \n",
    "    def predict(self, X):\n",
    "        y = np.zeros(X.shape[0])\n",
    "        \n",
    "        for i in range(X.shape[0]):\n",
    "            y[i] = self.__predict(X[i])\n",
    "            \n",
    "        return y"
   ]
  },
  {
   "cell_type": "code",
   "execution_count": 55,
   "metadata": {},
   "outputs": [
    {
     "name": "stdout",
     "output_type": "stream",
     "text": [
      "Wall time: 4.33 s\n"
     ]
    }
   ],
   "source": [
    "%%time\n",
    "A = RegressionTreeFastMse(7, min_size=5)\n",
    "A.fit(X_train,y_train)\n",
    "train_answers = A.predict(X_train)\n",
    "test_answers = A.predict(X_test)"
   ]
  },
  {
   "cell_type": "code",
   "execution_count": 56,
   "metadata": {},
   "outputs": [
    {
     "data": {
      "text/plain": [
       "0.7688897861470159"
      ]
     },
     "execution_count": 56,
     "metadata": {},
     "output_type": "execute_result"
    }
   ],
   "source": [
    "r2(y_test, test_answers)"
   ]
  },
  {
   "cell_type": "raw",
   "metadata": {},
   "source": [
    "0.7681489126434825 RegressionTreeFastMse(8, min_size=5)"
   ]
  },
  {
   "cell_type": "code",
   "execution_count": 14,
   "metadata": {},
   "outputs": [],
   "source": [
    "class GradientBoosting():\n",
    "    \n",
    "    def __init__(self, n_estimators=100, learning_rate=0.1, max_depth=3, \n",
    "                 random_state=17, n_samples = 15, min_size = 5, base_tree='Bagging'):\n",
    "            \n",
    "        self.n_estimators = n_estimators\n",
    "        self.max_depth = max_depth\n",
    "        self.learning_rate = learning_rate\n",
    "        self.initialization = lambda y: np.mean(y) * np.ones([y.shape[0]])\n",
    "        self.min_size = min_size\n",
    "        self.loss_by_iter = []\n",
    "        self.trees_ = []\n",
    "        self.loss_by_iter_test = []\n",
    "        self.n_samples = n_samples\n",
    "        self.base_tree = base_tree\n",
    "\n",
    "    \n",
    "    def fit(self, X, y):\n",
    "        self.X = X\n",
    "        self.y = y\n",
    "        b = self.initialization(y)\n",
    "        \n",
    "        prediction = b.copy()\n",
    "        \n",
    "        for t in tqdm_notebook(range(self.n_estimators)):               \n",
    "            \n",
    "            if t == 0:\n",
    "                resid = y\n",
    "            else:\n",
    "                # сразу пишем антиградиент\n",
    "                resid = (y - prediction)\n",
    "            \n",
    "            # выбираем базовый алгоритм\n",
    "            if self.base_tree == 'Bagging':\n",
    "                tree = Bagging(max_depth=self.max_depth,\n",
    "                                       min_size = self.min_size)                \n",
    "            if self.base_tree == 'Tree':\n",
    "                tree = RegressionTreeFastMse(max_depth=self.max_depth,\n",
    "                                          min_size = self.min_size)\n",
    "                \n",
    "            # обучаемся на векторе антиградиента\n",
    "            tree.fit(X, resid)\n",
    "            # делаем предикт и добавляем алгоритм к ансамблю\n",
    "            b = tree.predict(X).reshape([X.shape[0]])\n",
    "            self.trees_.append(tree)\n",
    "            prediction += self.learning_rate * b\n",
    "            # добавляем только если не первая итерация\n",
    "            if t > 0:\n",
    "                self.loss_by_iter.append(mse(y,prediction))\n",
    "                   \n",
    "        return self\n",
    "    \n",
    "    def predict(self, X):\n",
    "        \n",
    "        # сначала прогноз – это просто вектор из средних значений ответов на обучении\n",
    "        pred = np.ones([X.shape[0]]) * np.mean(self.y)\n",
    "        # добавляем прогнозы деревьев\n",
    "        for t in range(self.n_estimators):\n",
    "            pred += self.learning_rate * self.trees_[t].predict(X).reshape([X.shape[0]])\n",
    "            \n",
    "        return pred"
   ]
  },
  {
   "cell_type": "code",
   "execution_count": 18,
   "metadata": {},
   "outputs": [],
   "source": [
    "class Bagging():\n",
    "    \n",
    "    '''\n",
    "    Класс Bagging - предназначен для генерирования бустрапированного\n",
    "    выбора моделей.\n",
    "    '''\n",
    "    \n",
    "    def __init__(self, max_depth = 3, min_size=10, n_samples = 10):\n",
    "            \n",
    "        #super(CART, self).__init__()\n",
    "        self.max_depth = max_depth\n",
    "        self.min_size = min_size\n",
    "        self.n_samples = n_samples\n",
    "        self.subsample_size = None\n",
    "        self.list_of_Carts = [RegressionTreeFastMse(max_depth=self.max_depth, \n",
    "                                min_size=self.min_size) for _ in range(self.n_samples)]\n",
    "\n",
    "    def get_bootstrap_samples(self, data_train, y_train):\n",
    "        \n",
    "        # генерируем индексы выборок с возращением\n",
    "        indices = np.random.randint(0, len(data_train), (self.n_samples, self.subsample_size))\n",
    "        samples_train = data_train[indices]\n",
    "        samples_y = y_train[indices]\n",
    "        return samples_train, samples_y\n",
    "    \n",
    "    def fit(self, data_train, y_train):\n",
    "        \n",
    "        # обучаем каждую модель \n",
    "        self.subsample_size = int(data_train.shape[0])\n",
    "        samples_train, samples_y = self.get_bootstrap_samples(data_train, y_train)\n",
    "        for i in range(self.n_samples):\n",
    "            self.list_of_Carts[i].fit(samples_train[i], samples_y[i].reshape(-1))\n",
    "        return self\n",
    "        \n",
    "    def predict(self, test_data):\n",
    "        \n",
    "        # для каждого объекта берём его средний предикт\n",
    "        num_samples = test_data.shape[0]\n",
    "        pred = []\n",
    "        for i in range(self.n_samples):\n",
    "            pred.append(self.list_of_Carts[i].predict(test_data))\n",
    "        pred = np.array(pred).T\n",
    "\n",
    "        return np.array([np.mean(pred[i]) for i in range(num_samples)])\n",
    "    "
   ]
  },
  {
   "cell_type": "code",
   "execution_count": 16,
   "metadata": {},
   "outputs": [],
   "source": [
    "from tqdm import tqdm_notebook"
   ]
  },
  {
   "cell_type": "code",
   "execution_count": 145,
   "metadata": {},
   "outputs": [
    {
     "data": {
      "application/vnd.jupyter.widget-view+json": {
       "model_id": "21c67b7dece642518bbd2c20272ffb4d",
       "version_major": 2,
       "version_minor": 0
      },
      "text/plain": [
       "HBox(children=(IntProgress(value=0, max=1500), HTML(value='')))"
      ]
     },
     "metadata": {},
     "output_type": "display_data"
    },
    {
     "name": "stdout",
     "output_type": "stream",
     "text": [
      "\n"
     ]
    }
   ],
   "source": [
    "GDB = GradientBoosting(n_estimators=1500, base_tree='Tree', max_depth=6, learning_rate=0.05)\n",
    "GDB.fit(X_train,y_train)\n",
    "test_answers_GB = GDB.predict(X_test)\n"
   ]
  },
  {
   "cell_type": "code",
   "execution_count": 119,
   "metadata": {},
   "outputs": [
    {
     "data": {
      "application/vnd.jupyter.widget-view+json": {
       "model_id": "6bde398656834b9684483080b9130682",
       "version_major": 2,
       "version_minor": 0
      },
      "text/plain": [
       "HBox(children=(IntProgress(value=0, max=500), HTML(value='')))"
      ]
     },
     "metadata": {},
     "output_type": "display_data"
    },
    {
     "name": "stdout",
     "output_type": "stream",
     "text": [
      "\n"
     ]
    }
   ],
   "source": [
    "GDB_2 = GradientBoosting(n_estimators=500, base_tree='Bagging', max_depth=7)\n",
    "GDB_2.fit(X_train,y_train)\n",
    "test_answers_GB_2 = GDB_2.predict(X_test)"
   ]
  },
  {
   "cell_type": "code",
   "execution_count": 134,
   "metadata": {},
   "outputs": [],
   "source": [
    "train_answers_GB = GDB.predict(X_train)"
   ]
  },
  {
   "cell_type": "code",
   "execution_count": 141,
   "metadata": {},
   "outputs": [
    {
     "data": {
      "text/plain": [
       "0.7570088068013311"
      ]
     },
     "execution_count": 141,
     "metadata": {},
     "output_type": "execute_result"
    }
   ],
   "source": [
    "r2(y_train, train_answers_GB)"
   ]
  },
  {
   "cell_type": "code",
   "execution_count": 147,
   "metadata": {},
   "outputs": [
    {
     "data": {
      "text/plain": [
       "0.7776435441960861"
      ]
     },
     "execution_count": 147,
     "metadata": {},
     "output_type": "execute_result"
    }
   ],
   "source": [
    "r2(y_test, test_answers_GB)"
   ]
  },
  {
   "cell_type": "code",
   "execution_count": 146,
   "metadata": {},
   "outputs": [
    {
     "data": {
      "text/plain": [
       "0.7523078031888472"
      ]
     },
     "execution_count": 146,
     "metadata": {},
     "output_type": "execute_result"
    }
   ],
   "source": [
    "r2(y_test, test_answers_GB_2)"
   ]
  },
  {
   "cell_type": "raw",
   "metadata": {},
   "source": [
    "0.7376629239784604, 0.7751116388030227 n_estimators=100, base_tree='Tree', max_depth=7       0.7761619059581079 (n_estimators=100, base_tree='Tree', max_depth=5)"
   ]
  },
  {
   "cell_type": "raw",
   "metadata": {},
   "source": [
    "0.7794270033401676 (n_estimators=100, base_tree='Tree', max_depth=6)   0.7778799618813317 n_estimators=500, base_tree='Tree', max_depth=6)"
   ]
  },
  {
   "cell_type": "code",
   "execution_count": 148,
   "metadata": {},
   "outputs": [
    {
     "data": {
      "text/plain": [
       "[<matplotlib.lines.Line2D at 0x26a06b406a0>]"
      ]
     },
     "execution_count": 148,
     "metadata": {},
     "output_type": "execute_result"
    },
    {
     "data": {
      "image/png": "[encoded data removed]",
      "text/plain": [
       "<Figure size 432x288 with 1 Axes>"
      ]
     },
     "metadata": {
      "needs_background": "light"
     },
     "output_type": "display_data"
    }
   ],
   "source": [
    "plt.grid()\n",
    "plt.title('Loss by iterations')\n",
    "plt.plot(GDB.loss_by_iter)"
   ]
  },
  {
   "cell_type": "markdown",
   "metadata": {},
   "source": [
    "Обучим на всем датасете и сделаем предикт"
   ]
  },
  {
   "cell_type": "code",
   "execution_count": 149,
   "metadata": {},
   "outputs": [],
   "source": [
    "X = df[df.columns[1:-1]].to_numpy()\n",
    "y = df[df.columns[-1]].to_numpy()"
   ]
  },
  {
   "cell_type": "code",
   "execution_count": 151,
   "metadata": {},
   "outputs": [
    {
     "data": {
      "application/vnd.jupyter.widget-view+json": {
       "model_id": "6a5f529007e84777b9a5c85903655b01",
       "version_major": 2,
       "version_minor": 0
      },
      "text/plain": [
       "HBox(children=(IntProgress(value=0, max=1500), HTML(value='')))"
      ]
     },
     "metadata": {},
     "output_type": "display_data"
    },
    {
     "name": "stdout",
     "output_type": "stream",
     "text": [
      "\n"
     ]
    },
    {
     "data": {
      "text/plain": [
       "<__main__.GradientBoosting at 0x26a06b80c18>"
      ]
     },
     "execution_count": 151,
     "metadata": {},
     "output_type": "execute_result"
    }
   ],
   "source": [
    "GDB_pred = GradientBoosting(n_estimators=1500, base_tree='Tree', max_depth=7, learning_rate=0.05)\n",
    "GDB_pred.fit(X,y)"
   ]
  },
  {
   "cell_type": "code",
   "execution_count": 152,
   "metadata": {},
   "outputs": [],
   "source": [
    "test = df_test[df_test.columns[1:]].to_numpy()"
   ]
  },
  {
   "cell_type": "code",
   "execution_count": 154,
   "metadata": {},
   "outputs": [],
   "source": [
    "test_prediction = GDB_pred.predict(test)"
   ]
  },
  {
   "cell_type": "code",
   "execution_count": 155,
   "metadata": {},
   "outputs": [
    {
     "data": {
      "text/plain": [
       "(10000,)"
      ]
     },
     "execution_count": 155,
     "metadata": {},
     "output_type": "execute_result"
    }
   ],
   "source": [
    "test_prediction.shape"
   ]
  },
  {
   "cell_type": "code",
   "execution_count": 156,
   "metadata": {},
   "outputs": [],
   "source": [
    "df_test['mean_exam_points'] = test_prediction"
   ]
  },
  {
   "cell_type": "code",
   "execution_count": 157,
   "metadata": {},
   "outputs": [],
   "source": [
    "df_to_write = df_test[['Id', 'mean_exam_points']]"
   ]
  },
  {
   "cell_type": "code",
   "execution_count": 158,
   "metadata": {},
   "outputs": [],
   "source": [
    "df_to_write.to_csv('nnm_preds_gdb_5.csv', index=False)"
   ]
  },
  {
   "cell_type": "code",
   "execution_count": 139,
   "metadata": {},
   "outputs": [
    {
     "data": {
      "text/plain": [
       "array([41.85526738, 57.20370968, 52.84016981, ..., 54.5883836 ,\n",
       "       59.02716867, 67.83128502])"
      ]
     },
     "execution_count": 139,
     "metadata": {},
     "output_type": "execute_result"
    }
   ],
   "source": []
  }
 ],
 "metadata": {
  "kernelspec": {
   "display_name": "Python 3",
   "language": "python",
   "name": "python3"
  },
  "language_info": {
   "codemirror_mode": {
    "name": "ipython",
    "version": 3
   },
   "file_extension": ".py",
   "mimetype": "text/x-python",
   "name": "python",
   "nbconvert_exporter": "python",
   "pygments_lexer": "ipython3",
   "version": "3.7.0"
  }
 },
 "nbformat": 4,
 "nbformat_minor": 4
}
