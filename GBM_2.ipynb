{
 "cells": [
  {
   "cell_type": "markdown",
   "metadata": {
    "colab_type": "text",
    "id": "xnZ8vbGj5-cG"
   },
   "source": [
    "Построение дерева решений"
   ]
  },
  {
   "cell_type": "code",
   "execution_count": 1,
   "metadata": {},
   "outputs": [],
   "source": [
    "import pandas as pd\n",
    "import numpy as np\n",
    "from sklearn.model_selection import train_test_split\n",
    "\n",
    "import warnings\n",
    "warnings.simplefilter('ignore')\n",
    "\n",
    "import plotly.express as px"
   ]
  },
  {
   "cell_type": "code",
   "execution_count": 2,
   "metadata": {},
   "outputs": [],
   "source": [
    "df = pd.read_csv('Data/train.csv')\n",
    "df_test = pd.read_csv('Data/test.csv')"
   ]
  },
  {
   "cell_type": "code",
   "execution_count": 3,
   "metadata": {
    "colab": {},
    "colab_type": "code",
    "id": "phK1KhIKlX7a"
   },
   "outputs": [],
   "source": [
    "# Реализуем класс узла\n",
    "\n",
    "class Node:\n",
    "    \n",
    "    def __init__(self, index, t, true_branch, false_branch):\n",
    "        self.index = index  # индекс признака, по которому ведется сравнение с порогом в этом узле\n",
    "        self.t = t  # значение порога\n",
    "        self.true_branch = true_branch  # поддерево, удовлетворяющее условию в узле\n",
    "        self.false_branch = false_branch  # поддерево, не удовлетворяющее условию в узле"
   ]
  },
  {
   "cell_type": "code",
   "execution_count": 4,
   "metadata": {
    "colab": {},
    "colab_type": "code",
    "id": "4kTzZ2BQltog"
   },
   "outputs": [],
   "source": [
    "# И класс терминального узла (листа)\n",
    "\n",
    "class Leaf:\n",
    "    \n",
    "    def __init__(self, data, values):\n",
    "        self.data = data\n",
    "        self.values = values\n",
    "        self.prediction = self.predict()\n",
    "        \n",
    "    def predict(self):\n",
    "        # подсчет количества объектов разных классов\n",
    "        prediction = self.values.mean()\n",
    "        return prediction        "
   ]
  },
  {
   "cell_type": "code",
   "execution_count": 5,
   "metadata": {
    "colab": {},
    "colab_type": "code",
    "id": "XlIDYfOVmcfw"
   },
   "outputs": [],
   "source": [
    "# Расчет качества\n",
    "\n",
    "def quality(left_values, right_values):\n",
    "\n",
    "    \n",
    "    return left_values.var() + right_values.var()"
   ]
  },
  {
   "cell_type": "code",
   "execution_count": 6,
   "metadata": {
    "colab": {},
    "colab_type": "code",
    "id": "Ao51hFz3mixZ"
   },
   "outputs": [],
   "source": [
    "# Разбиение датасета в узле\n",
    "\n",
    "def split(data, values, index, t):\n",
    "    \n",
    "#     print(data.shape, values.shape, index, t)\n",
    "    \n",
    "    left = np.where(data[:, index] <= t)\n",
    "    right = np.where(data[:, index] > t)\n",
    "        \n",
    "    true_data = data[left]\n",
    "    false_data = data[right]\n",
    "    true_values = values[left]\n",
    "    false_values = values[right]\n",
    "        \n",
    "    return true_data, false_data, true_values, false_values"
   ]
  },
  {
   "cell_type": "code",
   "execution_count": 7,
   "metadata": {
    "colab": {},
    "colab_type": "code",
    "id": "-rRQWBiKmpSY"
   },
   "outputs": [],
   "source": [
    "# Нахождение наилучшего разбиения\n",
    "\n",
    "def find_best_split(data, values):\n",
    "    \n",
    "    #  обозначим минимальное количество объектов в узле\n",
    "    min_leaf = 5\n",
    "\n",
    "    best_quality = values.var() * 1e+5\n",
    "    best_t = None\n",
    "    best_index = None\n",
    "    \n",
    "    n_features = data.shape[1]\n",
    "    \n",
    "    for index in range(n_features):\n",
    "        t_values = [row[index] for row in data]\n",
    "#         print(t_values)\n",
    "        for t in t_values:\n",
    "#             print(t)\n",
    "            true_data, false_data, true_values, false_values = split(data, values, index, t)\n",
    "            #  пропускаем разбиения, в которых в узле остается менее 5 объектов\n",
    "            if len(true_data) < min_leaf or len(false_data) < min_leaf:\n",
    "                continue\n",
    "            \n",
    "            current_quality = quality(true_values, false_values)\n",
    "            \n",
    "            #  выбираем порог, на котором получается максимальный прирост качества\n",
    "            if current_quality < best_quality:\n",
    "                best_quality, best_t, best_index = current_quality, t, index\n",
    "\n",
    "    return best_quality, best_t, best_index"
   ]
  },
  {
   "cell_type": "code",
   "execution_count": 8,
   "metadata": {
    "colab": {},
    "colab_type": "code",
    "id": "dtX4GiJ_msrc"
   },
   "outputs": [],
   "source": [
    "# Построение дерева с помощью рекурсивной функции\n",
    "\n",
    "def build_tree(data, values):\n",
    "\n",
    "    quality, t, index = find_best_split(data, values)\n",
    "\n",
    "    #  Базовый случай - прекращаем рекурсию, когда нет прироста в качества\n",
    "    if quality == 0:\n",
    "        return Leaf(data, values)\n",
    "    elif values.var() == 0:\n",
    "        return Leaf(data, values)\n",
    "    elif data.shape[0] < 15:\n",
    "        return Leaf(data, values)\n",
    "        \n",
    "\n",
    "    true_data, false_data, true_values, false_values = split(data, values, index, t)\n",
    "\n",
    "    # Рекурсивно строим два поддерева\n",
    "    true_branch = build_tree(true_data, true_values)\n",
    "    false_branch = build_tree(false_data, false_values)\n",
    "\n",
    "    # Возвращаем класс узла со всеми поддеревьями, то есть целого дерева\n",
    "    return Node(index, t, true_branch, false_branch)"
   ]
  },
  {
   "cell_type": "code",
   "execution_count": 9,
   "metadata": {
    "colab": {},
    "colab_type": "code",
    "id": "mZYbZj6Rmzb1"
   },
   "outputs": [],
   "source": [
    "def classify_object(obj, node):\n",
    "\n",
    "    #  Останавливаем рекурсию, если достигли листа\n",
    "    if isinstance(node, Leaf):\n",
    "        answer = node.prediction\n",
    "        return answer\n",
    "\n",
    "    if obj[node.index] <= node.t:\n",
    "        return classify_object(obj, node.true_branch)\n",
    "    else:\n",
    "        return classify_object(obj, node.false_branch)"
   ]
  },
  {
   "cell_type": "code",
   "execution_count": 10,
   "metadata": {
    "colab": {},
    "colab_type": "code",
    "id": "6wLARRqcm8e4"
   },
   "outputs": [],
   "source": [
    "def predict(data, tree):\n",
    "    \n",
    "    values = []\n",
    "    for obj in data:\n",
    "        prediction = classify_object(obj, tree)\n",
    "        values.append(prediction)\n",
    "    return values"
   ]
  },
  {
   "cell_type": "code",
   "execution_count": 11,
   "metadata": {},
   "outputs": [],
   "source": [
    "X = df[df.columns[1:-1]].to_numpy()\n",
    "y = df[df.columns[-1]].to_numpy()"
   ]
  },
  {
   "cell_type": "code",
   "execution_count": 12,
   "metadata": {
    "colab": {},
    "colab_type": "code",
    "id": "7WTpjKodnCsX"
   },
   "outputs": [],
   "source": [
    "# Разобьем выборку на обучающую и тестовую\n",
    "\n",
    "from sklearn import model_selection\n",
    "\n",
    "train_data, test_data, train_values, test_values = model_selection.train_test_split(X, y, test_size = 0.3, random_state = 1)"
   ]
  },
  {
   "cell_type": "code",
   "execution_count": null,
   "metadata": {},
   "outputs": [],
   "source": []
  },
  {
   "cell_type": "code",
   "execution_count": 13,
   "metadata": {
    "colab": {},
    "colab_type": "code",
    "id": "_dTp31ZFnF4Z"
   },
   "outputs": [
    {
     "name": "stdout",
     "output_type": "stream",
     "text": [
      "Wall time: 2min 1s\n"
     ]
    }
   ],
   "source": [
    "%%time\n",
    "# Построим дерево по обучающей выборке\n",
    "my_tree = build_tree(train_data, train_values)"
   ]
  },
  {
   "cell_type": "code",
   "execution_count": 14,
   "metadata": {
    "colab": {},
    "colab_type": "code",
    "id": "HtiyOwgVnOFX"
   },
   "outputs": [],
   "source": [
    "# Получим ответы для обучающей выборки \n",
    "train_answers = predict(train_data, my_tree)"
   ]
  },
  {
   "cell_type": "code",
   "execution_count": 15,
   "metadata": {
    "colab": {},
    "colab_type": "code",
    "id": "qZ4jhhipnUA0"
   },
   "outputs": [],
   "source": [
    "# И получим ответы для тестовой выборки\n",
    "answers = predict(test_data, my_tree)"
   ]
  },
  {
   "cell_type": "code",
   "execution_count": 16,
   "metadata": {
    "colab": {},
    "colab_type": "code",
    "id": "ttzvKefhnXMP"
   },
   "outputs": [],
   "source": [
    "# Введем функцию подсчета точности R2\n",
    "def r2(y_real, y_pred):\n",
    "    r2 = 1 - np.sum(np.square(y_real - y_pred))/np.sum(np.square(y_real - y_real.mean()))\n",
    "    return r2"
   ]
  },
  {
   "cell_type": "code",
   "execution_count": 17,
   "metadata": {
    "colab": {
     "base_uri": "https://localhost:8080/",
     "height": 34
    },
    "colab_type": "code",
    "id": "dhh8JebBnal0",
    "outputId": "abd9f0ee-eabc-4333-8c8a-8cf98f84a7d1"
   },
   "outputs": [
    {
     "data": {
      "text/plain": [
       "0.8286740438511039"
      ]
     },
     "execution_count": 17,
     "metadata": {},
     "output_type": "execute_result"
    }
   ],
   "source": [
    "# Точность на обучающей выборке\n",
    "train_accuracy = r2(train_values, train_answers)\n",
    "train_accuracy"
   ]
  },
  {
   "cell_type": "code",
   "execution_count": 18,
   "metadata": {
    "colab": {
     "base_uri": "https://localhost:8080/",
     "height": 34
    },
    "colab_type": "code",
    "id": "FMDk422jneNZ",
    "outputId": "2b5585b9-6fd8-45f5-961c-ea44b82501fd"
   },
   "outputs": [
    {
     "data": {
      "text/plain": [
       "0.7265088454733439"
      ]
     },
     "execution_count": 18,
     "metadata": {},
     "output_type": "execute_result"
    }
   ],
   "source": [
    "# Точность на тестовой выборке\n",
    "test_accuracy = r2(test_values, answers)\n",
    "test_accuracy"
   ]
  },
  {
   "cell_type": "code",
   "execution_count": null,
   "metadata": {
    "colab": {},
    "colab_type": "code",
    "id": "og8oyRGDnms2"
   },
   "outputs": [],
   "source": []
  },
  {
   "cell_type": "code",
   "execution_count": 19,
   "metadata": {},
   "outputs": [],
   "source": [
    "def gb_predict(X, trees_list, eta):\n",
    "    answers = np.zeros(X.shape[0])\n",
    "    for tree in trees_list:\n",
    "        answers_new = predict(X, tree)\n",
    "        answers = answers + np.array(answers_new)*eta\n",
    "    \n",
    "    return answers"
   ]
  },
  {
   "cell_type": "markdown",
   "metadata": {},
   "source": [
    "Напишем производную от функции ошибки MSE, для того чтобы посчитать антиградиент"
   ]
  },
  {
   "cell_type": "code",
   "execution_count": 20,
   "metadata": {},
   "outputs": [],
   "source": [
    "def bias(y, z):\n",
    "    return (y - z)"
   ]
  },
  {
   "cell_type": "code",
   "execution_count": 21,
   "metadata": {},
   "outputs": [],
   "source": [
    "def gb_fit(n_trees, train_data, test_data, train_values, test_values, eta):\n",
    "    \n",
    "    # Деревья будем записывать в список\n",
    "    trees = []\n",
    "    \n",
    "    # Будем записывать ошибки на обучающей и тестовой выборке на каждой итерации в список\n",
    "    train_errors = []\n",
    "    test_errors = []\n",
    "    \n",
    "    for i in range(n_trees):\n",
    "        print('Итерация ', i, end='\\r')\n",
    "#         tree = build_tree()\n",
    "\n",
    "        # инициализируем бустинг начальным алгоритмом, возвращающим ноль, \n",
    "        # поэтому первый алгоритм просто обучаем на выборке и добавляем в список\n",
    "        if len(trees) == 0:\n",
    "            # обучаем первое дерево на обучающей выборке\n",
    "            tree = build_tree(train_data, train_values)\n",
    "            print('Ошибка на итерации {} = {}'.format(i, r2(train_values, gb_predict(train_data, trees, eta))))\n",
    "            \n",
    "            train_errors.append(r2(train_values, gb_predict(train_data, trees, eta)))\n",
    "            test_errors.append(r2(test_values, gb_predict(test_data, trees, eta)))\n",
    "#             print('Дерево ', i)\n",
    "#             evaluate_alg_1(X_train, X_test, y_train, y_test, tree, eta)\n",
    "        else:\n",
    "            # Получим ответы на текущей композиции\n",
    "            target = gb_predict(train_data, trees, eta)\n",
    "            \n",
    "            # алгоритмы начиная со второго обучаем на сдвиг\n",
    "            tree = build_tree(train_data, bias(train_values, target))\n",
    "#             print(bias(y_train, target))\n",
    "\n",
    "            print('Ошибка на итерации {} = {}'.format(i, r2(train_values, gb_predict(train_data, trees, eta))))\n",
    "            train_errors.append(r2(train_values, gb_predict(train_data, trees, eta)))\n",
    "            test_errors.append(r2(test_values, gb_predict(test_data, trees, eta)))\n",
    "\n",
    "        trees.append(tree)\n",
    "        \n",
    "#         evaluate_alg_1(X_train, X_test, y_train, y_test, trees, eta)\n",
    "    last_tree = trees[-1]\n",
    "        \n",
    "        \n",
    "    return trees, train_errors, test_errors, last_tree"
   ]
  },
  {
   "cell_type": "code",
   "execution_count": 22,
   "metadata": {},
   "outputs": [],
   "source": [
    "def evaluate_alg(X_train, X_test, y_train, y_test, trees, eta):\n",
    "    train_prediction = gb_predict(X_train, trees, eta)\n",
    "\n",
    "    print(f'Ошибка алгоритма из {n_trees} деревьев  \\\n",
    "    с шагом {eta} на тренировочной выборке: {r2(y_train, train_prediction)}')\n",
    "\n",
    "    test_prediction = gb_predict(X_test, trees, eta)\n",
    "\n",
    "    print(f'Ошибка алгоритма из {n_trees} деревьев  \\\n",
    "    с шагом {eta} на тестовой выборке: {r2(y_test, test_prediction)}')"
   ]
  },
  {
   "cell_type": "code",
   "execution_count": 23,
   "metadata": {},
   "outputs": [
    {
     "name": "stdout",
     "output_type": "stream",
     "text": [
      "Ошибка на итерации 0 = -22.466397322351927\n",
      "Ошибка на итерации 1 = -4.995093797699654\n",
      "Ошибка на итерации 2 = -0.6152031550066883\n",
      "Ошибка на итерации 3 = 0.490274914390461\n",
      "Ошибка на итерации 4 = 0.7724989803398083\n",
      "Ошибка на итерации 5 = 0.8466730011073178\n",
      "Ошибка на итерации 6 = 0.8686315047848325\n",
      "Ошибка на итерации 7 = 0.8768044589186907\n",
      "Ошибка на итерации 8 = 0.8806718992319056\n",
      "Ошибка на итерации 9 = 0.8830252439745732\n",
      "Ошибка на итерации 10 = 0.8845525979181409\n",
      "Ошибка на итерации 11 = 0.8869523330158129\n",
      "Ошибка на итерации 12 = 0.8896023355921674\n",
      "Ошибка на итерации 13 = 0.8918939716361474\n",
      "Ошибка на итерации 14 = 0.8928399102679551\n",
      "Ошибка на итерации 15 = 0.893366075044889\n",
      "Ошибка на итерации 16 = 0.8943946488518857\n",
      "Ошибка на итерации 17 = 0.8954702352074033\n",
      "Ошибка на итерации 18 = 0.8964304235013211\n",
      "Ошибка на итерации 19 = 0.8972594668314627\n",
      "Wall time: 1h 11min 18s\n"
     ]
    }
   ],
   "source": [
    "%%time\n",
    "# Число деревьев в ансамбле\n",
    "n_trees = 20\n",
    "\n",
    "\n",
    "# Шаг\n",
    "eta = 0.5\n",
    "\n",
    "trees, train_errors, test_errors, last_tree = gb_fit(n_trees, train_data, test_data, train_values, test_values, eta)"
   ]
  },
  {
   "cell_type": "code",
   "execution_count": 24,
   "metadata": {},
   "outputs": [
    {
     "name": "stdout",
     "output_type": "stream",
     "text": [
      "Ошибка алгоритма из 20 деревьев      с шагом 0.5 на тренировочной выборке: 0.8994629194746964\n",
      "Ошибка алгоритма из 20 деревьев      с шагом 0.5 на тестовой выборке: 0.7063812403066875\n"
     ]
    }
   ],
   "source": [
    "evaluate_alg(train_data, test_data, train_values, test_values, trees, eta)"
   ]
  },
  {
   "cell_type": "code",
   "execution_count": 25,
   "metadata": {},
   "outputs": [],
   "source": [
    "test = df_test[df_test.columns[1:]].to_numpy()"
   ]
  },
  {
   "cell_type": "code",
   "execution_count": 26,
   "metadata": {},
   "outputs": [],
   "source": [
    "test_prediction = gb_predict(test, trees, eta)"
   ]
  },
  {
   "cell_type": "code",
   "execution_count": 27,
   "metadata": {},
   "outputs": [
    {
     "data": {
      "text/plain": [
       "(10000,)"
      ]
     },
     "execution_count": 27,
     "metadata": {},
     "output_type": "execute_result"
    }
   ],
   "source": [
    "test_prediction.shape"
   ]
  },
  {
   "cell_type": "code",
   "execution_count": 28,
   "metadata": {},
   "outputs": [],
   "source": [
    "df_test['mean_exam_points'] = test_prediction"
   ]
  },
  {
   "cell_type": "code",
   "execution_count": 29,
   "metadata": {},
   "outputs": [],
   "source": [
    "df_to_write = df_test[['Id', 'mean_exam_points']]"
   ]
  },
  {
   "cell_type": "code",
   "execution_count": 30,
   "metadata": {},
   "outputs": [],
   "source": [
    "df_to_write.to_csv('ssv_preds_gbm_1.csv', index=False)"
   ]
  },
  {
   "cell_type": "code",
   "execution_count": null,
   "metadata": {},
   "outputs": [],
   "source": []
  }
 ],
 "metadata": {
  "colab": {
   "collapsed_sections": [],
   "name": "Lesson4.ipynb",
   "provenance": []
  },
  "kernelspec": {
   "display_name": "Python 3",
   "language": "python",
   "name": "python3"
  },
  "language_info": {
   "codemirror_mode": {
    "name": "ipython",
    "version": 3
   },
   "file_extension": ".py",
   "mimetype": "text/x-python",
   "name": "python",
   "nbconvert_exporter": "python",
   "pygments_lexer": "ipython3",
   "version": "3.7.0"
  }
 },
 "nbformat": 4,
 "nbformat_minor": 4
}
